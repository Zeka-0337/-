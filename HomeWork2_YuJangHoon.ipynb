{
 "cells": [
  {
   "cell_type": "code",
   "execution_count": 2,
   "metadata": {
    "id": "q1-vW1fC12XY"
   },
   "outputs": [],
   "source": [
    "import pandas as pd\n",
    "import os\n",
    "import matplotlib.pyplot as plt\n",
    "import seaborn as sns\n",
    "import numpy as np"
   ]
  },
  {
   "cell_type": "code",
   "execution_count": 3,
   "metadata": {
    "id": "FHMF2ebb12Xo",
    "outputId": "f316ccc7-b0df-48b1-b1a5-1e996527b06f"
   },
   "outputs": [
    {
     "data": {
      "text/html": [
       "<div>\n",
       "<style scoped>\n",
       "    .dataframe tbody tr th:only-of-type {\n",
       "        vertical-align: middle;\n",
       "    }\n",
       "\n",
       "    .dataframe tbody tr th {\n",
       "        vertical-align: top;\n",
       "    }\n",
       "\n",
       "    .dataframe thead th {\n",
       "        text-align: right;\n",
       "    }\n",
       "</style>\n",
       "<table border=\"1\" class=\"dataframe\">\n",
       "  <thead>\n",
       "    <tr style=\"text-align: right;\">\n",
       "      <th></th>\n",
       "      <th>HIT-HC</th>\n",
       "      <th>HIT-LC</th>\n",
       "      <th>MISS-LC</th>\n",
       "      <th>MISS-HC</th>\n",
       "      <th>FA-HC</th>\n",
       "      <th>FA-LC</th>\n",
       "      <th>CR-LC</th>\n",
       "      <th>CR-HC</th>\n",
       "    </tr>\n",
       "  </thead>\n",
       "  <tbody>\n",
       "    <tr>\n",
       "      <th>0</th>\n",
       "      <td>0.670455</td>\n",
       "      <td>0.140152</td>\n",
       "      <td>0.106061</td>\n",
       "      <td>0.083333</td>\n",
       "      <td>0.030303</td>\n",
       "      <td>0.094697</td>\n",
       "      <td>0.344697</td>\n",
       "      <td>0.530303</td>\n",
       "    </tr>\n",
       "    <tr>\n",
       "      <th>1</th>\n",
       "      <td>0.431818</td>\n",
       "      <td>0.291667</td>\n",
       "      <td>0.143939</td>\n",
       "      <td>0.132576</td>\n",
       "      <td>0.071970</td>\n",
       "      <td>0.287879</td>\n",
       "      <td>0.314394</td>\n",
       "      <td>0.325758</td>\n",
       "    </tr>\n",
       "    <tr>\n",
       "      <th>2</th>\n",
       "      <td>0.609848</td>\n",
       "      <td>0.140152</td>\n",
       "      <td>0.140152</td>\n",
       "      <td>0.109848</td>\n",
       "      <td>0.022727</td>\n",
       "      <td>0.079545</td>\n",
       "      <td>0.306818</td>\n",
       "      <td>0.590909</td>\n",
       "    </tr>\n",
       "    <tr>\n",
       "      <th>3</th>\n",
       "      <td>0.696970</td>\n",
       "      <td>0.007576</td>\n",
       "      <td>0.018939</td>\n",
       "      <td>0.276515</td>\n",
       "      <td>0.132576</td>\n",
       "      <td>0.015152</td>\n",
       "      <td>0.037879</td>\n",
       "      <td>0.814394</td>\n",
       "    </tr>\n",
       "    <tr>\n",
       "      <th>4</th>\n",
       "      <td>0.469697</td>\n",
       "      <td>0.215909</td>\n",
       "      <td>0.068182</td>\n",
       "      <td>0.246212</td>\n",
       "      <td>0.056818</td>\n",
       "      <td>0.189394</td>\n",
       "      <td>0.106061</td>\n",
       "      <td>0.647727</td>\n",
       "    </tr>\n",
       "  </tbody>\n",
       "</table>\n",
       "</div>"
      ],
      "text/plain": [
       "     HIT-HC    HIT-LC   MISS-LC   MISS-HC     FA-HC     FA-LC     CR-LC  \\\n",
       "0  0.670455  0.140152  0.106061  0.083333  0.030303  0.094697  0.344697   \n",
       "1  0.431818  0.291667  0.143939  0.132576  0.071970  0.287879  0.314394   \n",
       "2  0.609848  0.140152  0.140152  0.109848  0.022727  0.079545  0.306818   \n",
       "3  0.696970  0.007576  0.018939  0.276515  0.132576  0.015152  0.037879   \n",
       "4  0.469697  0.215909  0.068182  0.246212  0.056818  0.189394  0.106061   \n",
       "\n",
       "      CR-HC  \n",
       "0  0.530303  \n",
       "1  0.325758  \n",
       "2  0.590909  \n",
       "3  0.814394  \n",
       "4  0.647727  "
      ]
     },
     "metadata": {},
     "output_type": "display_data"
    },
    {
     "data": {
      "image/png": "[encoded data removed]",
      "text/plain": [
       "<Figure size 432x288 with 1 Axes>"
      ]
     },
     "metadata": {
      "needs_background": "light"
     },
     "output_type": "display_data"
    }
   ],
   "source": [
    "### Prob.7~9 ###\n",
    "def file_location_ver1(loc) :\n",
    "    file_list = os.listdir(loc)\n",
    "    # Create empty old / new dictionary\n",
    "    Sort_new = {'FA-HC' : [], 'FA-LC' : [], 'CR-LC' : [], 'CR-HC' :[]}\n",
    "    Sort_old = {'HIT-HC' : [] , 'HIT-LC' : [] , 'MISS-LC' : [], 'MISS-HC' : []}\n",
    "    keys_old = np.array(list(Sort_old.keys()))\n",
    "    keys_new = np.array(list(Sort_new.keys()))\n",
    "\n",
    "    for i in range(len(file_list)) :\n",
    "        # Call the test.txt file by using format\n",
    "        test = pd.read_csv('{}/{}/{}_test.txt'.format(loc,file_list[i],file_list[i]), sep='\\t', index_col = False)\n",
    "        \n",
    "        # Split it into old and new\n",
    "        old = test[test['Task_Type']==0]\n",
    "        new = test[test['Task_Type']==1]\n",
    "        #Fill in the dict with proper probability values\n",
    "        old_case = []\n",
    "        new_case = []\n",
    "        for t in range(4) :\n",
    "            old_case.append(len(old[old['Res1']==t+1]))\n",
    "            new_case.append(len(new[new['Res1']==t+1]))\n",
    "            Sort_old[keys_old[t]].append(old_case[t]/len(old))\n",
    "            Sort_new[keys_new[t]].append(new_case[t]/len(new))\n",
    "    \n",
    "    # Merge old / new dictionary and change into DataFrame\n",
    "    Sort_all = Sort_old\n",
    "    Sort_all.update(Sort_new)\n",
    "    df_all = pd.DataFrame(data = Sort_all)\n",
    "    # Check the DataFrame \n",
    "    display(df_all.head(5))\n",
    "    # Use sns.barplot\n",
    "    sns.barplot(data = df_all)\n",
    "    \n",
    "file_location_ver1('./Dmdata')"
   ]
  },
  {
   "cell_type": "code",
   "execution_count": 4,
   "metadata": {
    "id": "tuEiYnZL12X2",
    "outputId": "51ac2af0-d38e-4658-f0f4-51411dbc9597"
   },
   "outputs": [
    {
     "data": {
      "text/html": [
       "<div>\n",
       "<style scoped>\n",
       "    .dataframe tbody tr th:only-of-type {\n",
       "        vertical-align: middle;\n",
       "    }\n",
       "\n",
       "    .dataframe tbody tr th {\n",
       "        vertical-align: top;\n",
       "    }\n",
       "\n",
       "    .dataframe thead th {\n",
       "        text-align: right;\n",
       "    }\n",
       "</style>\n",
       "<table border=\"1\" class=\"dataframe\">\n",
       "  <thead>\n",
       "    <tr style=\"text-align: right;\">\n",
       "      <th></th>\n",
       "      <th>values</th>\n",
       "      <th>categories</th>\n",
       "      <th>types</th>\n",
       "    </tr>\n",
       "  </thead>\n",
       "  <tbody>\n",
       "    <tr>\n",
       "      <th>0</th>\n",
       "      <td>0.670455</td>\n",
       "      <td>HIT-HC</td>\n",
       "      <td>old</td>\n",
       "    </tr>\n",
       "    <tr>\n",
       "      <th>1</th>\n",
       "      <td>0.431818</td>\n",
       "      <td>HIT-HC</td>\n",
       "      <td>old</td>\n",
       "    </tr>\n",
       "    <tr>\n",
       "      <th>2</th>\n",
       "      <td>0.609848</td>\n",
       "      <td>HIT-HC</td>\n",
       "      <td>old</td>\n",
       "    </tr>\n",
       "    <tr>\n",
       "      <th>3</th>\n",
       "      <td>0.696970</td>\n",
       "      <td>HIT-HC</td>\n",
       "      <td>old</td>\n",
       "    </tr>\n",
       "    <tr>\n",
       "      <th>4</th>\n",
       "      <td>0.469697</td>\n",
       "      <td>HIT-HC</td>\n",
       "      <td>old</td>\n",
       "    </tr>\n",
       "  </tbody>\n",
       "</table>\n",
       "</div>"
      ],
      "text/plain": [
       "     values categories types\n",
       "0  0.670455     HIT-HC   old\n",
       "1  0.431818     HIT-HC   old\n",
       "2  0.609848     HIT-HC   old\n",
       "3  0.696970     HIT-HC   old\n",
       "4  0.469697     HIT-HC   old"
      ]
     },
     "metadata": {},
     "output_type": "display_data"
    },
    {
     "data": {
      "image/png": "[encoded data removed]",
      "text/plain": [
       "<Figure size 432x288 with 1 Axes>"
      ]
     },
     "metadata": {
      "needs_background": "light"
     },
     "output_type": "display_data"
    }
   ],
   "source": [
    "### Prob.7~9 ###\n",
    "def file_location_ver2(loc) :\n",
    "    file_list = os.listdir(loc)\n",
    "    # Create Empty dictionary \n",
    "    Sort_8 = {'HIT-HC' : [] , 'HIT-LC' : [] , 'MISS-LC' : [], 'MISS-HC' : [],'FA-HC' : [], 'FA-LC' : [], 'CR-LC' : [], 'CR-HC' :[]}\n",
    "    keys_8 = np.array(list(Sort_8.keys()))\n",
    "\n",
    "    for i in range(len(file_list)) :\n",
    "        # Call the test.txt file by using format\n",
    "        test1 = pd.read_csv('{}/{}/{}_test.txt'.format(loc,file_list[i],file_list[i]), sep='\\t', index_col = False)\n",
    "        \n",
    "        # Split it into old and new\n",
    "        old = test1[test1['Task_Type']==0]\n",
    "        new = test1[test1['Task_Type']==1]\n",
    "        \n",
    "        # Fill in the dict with proper probability values\n",
    "        old_case = []\n",
    "        new_case = []\n",
    "        for t in range(4) :\n",
    "            old_case.append(len(old[old['Res1']==t+1]))\n",
    "            new_case.append(len(new[new['Res1']==t+1]))\n",
    "            Sort_8[keys_8[t]].append(old_case[t]/len(old))\n",
    "            Sort_8[keys_8[t+4]].append(new_case[t]/len(new))\n",
    "    # Create 3 lists (Values, Categories, Types) to make proper form of DataFrame for sns.barplot\n",
    "    values = []\n",
    "    for k in range(8) :\n",
    "        values += list(Sort_8[keys_8[k]])\n",
    "    \n",
    "    categories = []\n",
    "    for val in keys_8:\n",
    "           categories += list([val]*31)\n",
    "\n",
    "    types = ['old']*len(file_list)*4 + ['new']*len(file_list)*4\n",
    "\n",
    "    df_new = pd.DataFrame({'values': values, 'categories': categories, 'types': types})\n",
    "    \n",
    "    # Check the DataFrame \n",
    "    display(df_new.head())\n",
    "    # Use sns.barplot\n",
    "    sns.barplot(data=df_new, x='categories', y='values', hue='types' , capsize = 0.2, linewidth=6.5)\n",
    "\n",
    "file_location_ver2('./DMdata')"
   ]
  },
  {
   "cell_type": "code",
   "execution_count": 5,
   "metadata": {
    "id": "VEzGcqqR12YC",
    "outputId": "cbdd5b5d-57ec-420e-da5e-553ca4c3b546"
   },
   "outputs": [
    {
     "data": {
      "text/html": [
       "<div>\n",
       "<style scoped>\n",
       "    .dataframe tbody tr th:only-of-type {\n",
       "        vertical-align: middle;\n",
       "    }\n",
       "\n",
       "    .dataframe tbody tr th {\n",
       "        vertical-align: top;\n",
       "    }\n",
       "\n",
       "    .dataframe thead th {\n",
       "        text-align: right;\n",
       "    }\n",
       "</style>\n",
       "<table border=\"1\" class=\"dataframe\">\n",
       "  <thead>\n",
       "    <tr style=\"text-align: right;\">\n",
       "      <th></th>\n",
       "      <th>HIT-HC</th>\n",
       "      <th>HIT-LC</th>\n",
       "      <th>MISS-LC</th>\n",
       "      <th>MISS-HC</th>\n",
       "    </tr>\n",
       "  </thead>\n",
       "  <tbody>\n",
       "    <tr>\n",
       "      <th>0</th>\n",
       "      <td>0.888199</td>\n",
       "      <td>0.444444</td>\n",
       "      <td>0.600000</td>\n",
       "      <td>0.000000</td>\n",
       "    </tr>\n",
       "    <tr>\n",
       "      <th>1</th>\n",
       "      <td>0.459459</td>\n",
       "      <td>0.347826</td>\n",
       "      <td>0.000000</td>\n",
       "      <td>0.000000</td>\n",
       "    </tr>\n",
       "    <tr>\n",
       "      <th>2</th>\n",
       "      <td>0.917808</td>\n",
       "      <td>1.000000</td>\n",
       "      <td>0.666667</td>\n",
       "      <td>0.000000</td>\n",
       "    </tr>\n",
       "    <tr>\n",
       "      <th>3</th>\n",
       "      <td>0.555556</td>\n",
       "      <td>0.500000</td>\n",
       "      <td>0.600000</td>\n",
       "      <td>0.367647</td>\n",
       "    </tr>\n",
       "    <tr>\n",
       "      <th>4</th>\n",
       "      <td>0.655738</td>\n",
       "      <td>0.000000</td>\n",
       "      <td>0.000000</td>\n",
       "      <td>0.000000</td>\n",
       "    </tr>\n",
       "  </tbody>\n",
       "</table>\n",
       "</div>"
      ],
      "text/plain": [
       "     HIT-HC    HIT-LC   MISS-LC   MISS-HC\n",
       "0  0.888199  0.444444  0.600000  0.000000\n",
       "1  0.459459  0.347826  0.000000  0.000000\n",
       "2  0.917808  1.000000  0.666667  0.000000\n",
       "3  0.555556  0.500000  0.600000  0.367647\n",
       "4  0.655738  0.000000  0.000000  0.000000"
      ]
     },
     "metadata": {},
     "output_type": "display_data"
    },
    {
     "data": {
      "image/png": "[encoded data removed]",
      "text/plain": [
       "<Figure size 432x288 with 1 Axes>"
      ]
     },
     "metadata": {
      "needs_background": "light"
     },
     "output_type": "display_data"
    }
   ],
   "source": [
    "### Prob.10 ###\n",
    "def score (loc) :\n",
    "    file_list = os.listdir(loc)\n",
    "    # Create Empty dictionary for 'old'\n",
    "    Sort_score = {'HIT-HC' : [] , 'HIT-LC' : [] , 'MISS-LC' : [], 'MISS-HC' : []}\n",
    "    keys_score = np.array(list(Sort_score.keys()))\n",
    "    \n",
    "    for i in range(len(file_list)) :\n",
    "        # Call the test.txt file and study.txt file by using format\n",
    "        test = pd.read_csv('{}/{}/{}_test.txt'.format(loc,file_list[i],file_list[i]), sep='\\t', index_col = False)\n",
    "        study = pd.read_csv('{}/{}/{}_study.txt'.format(loc,file_list[i],file_list[i]), sep='\\t', index_col = False)\n",
    "        \n",
    "        # Set the 'test_old' and sort it by Object_ID\n",
    "        test_old = (test[(test['Task_Type']==0)].sort_values('Object_ID')).set_index('Object_ID')\n",
    "        \n",
    "        # Import new column 'locID' from study file \n",
    "        study = (study.set_index('ObjID')).sort_values('ObjID')\n",
    "        test_old['locID'] = study['LocID']\n",
    "        # Ignore the trials whose second respose is 5 \n",
    "        test_old = test_old[test_old['Res2'] <5]\n",
    "        # Extract correct rows\n",
    "        correct = test_old[test_old['Res2']==test_old['locID']]\n",
    "        \n",
    "        # Fill in the dict with score values /// When denominator is zero save it as 0 by using if\n",
    "        score =[]\n",
    "        for j in range(4) :\n",
    "            if len(test_old[test_old['Res1']==j+1]) == 0 :\n",
    "                score.append(0)\n",
    "            else : \n",
    "                score.append(len(correct[correct['Res1']==j+1])/len(test_old[test_old['Res1']==j+1])) \n",
    "            Sort_score[keys_score[j]].append(score[j])\n",
    "            \n",
    "    # Make dictionary into DataFrame and check it         \n",
    "    df_score = pd.DataFrame(Sort_score)\n",
    "    display(df_score.head())\n",
    "    \n",
    "    # Use sns.barplot\n",
    "    sns.barplot(data = df_score, capsize = 0.2)\n",
    "    \n",
    "score('./DMdata')"
   ]
  },
  {
   "cell_type": "code",
   "execution_count": 6,
   "metadata": {
    "id": "bHr_3pzh12YO",
    "outputId": "f91e6cf5-14c0-4947-b9f4-9b3284a1c257"
   },
   "outputs": [
    {
     "data": {
      "text/html": [
       "<div>\n",
       "<style scoped>\n",
       "    .dataframe tbody tr th:only-of-type {\n",
       "        vertical-align: middle;\n",
       "    }\n",
       "\n",
       "    .dataframe tbody tr th {\n",
       "        vertical-align: top;\n",
       "    }\n",
       "\n",
       "    .dataframe thead th {\n",
       "        text-align: right;\n",
       "    }\n",
       "</style>\n",
       "<table border=\"1\" class=\"dataframe\">\n",
       "  <thead>\n",
       "    <tr style=\"text-align: right;\">\n",
       "      <th></th>\n",
       "      <th>HIT-HC</th>\n",
       "      <th>HIT-LC</th>\n",
       "      <th>MISS-LC</th>\n",
       "      <th>MISS-HC</th>\n",
       "    </tr>\n",
       "  </thead>\n",
       "  <tbody>\n",
       "    <tr>\n",
       "      <th>0</th>\n",
       "      <td>0.888199</td>\n",
       "      <td>0.444444</td>\n",
       "      <td>0.600000</td>\n",
       "      <td>0.000000</td>\n",
       "    </tr>\n",
       "    <tr>\n",
       "      <th>1</th>\n",
       "      <td>0.459459</td>\n",
       "      <td>0.347826</td>\n",
       "      <td>0.000000</td>\n",
       "      <td>0.000000</td>\n",
       "    </tr>\n",
       "    <tr>\n",
       "      <th>2</th>\n",
       "      <td>0.917808</td>\n",
       "      <td>1.000000</td>\n",
       "      <td>0.666667</td>\n",
       "      <td>0.000000</td>\n",
       "    </tr>\n",
       "    <tr>\n",
       "      <th>3</th>\n",
       "      <td>0.555556</td>\n",
       "      <td>0.500000</td>\n",
       "      <td>0.600000</td>\n",
       "      <td>0.367647</td>\n",
       "    </tr>\n",
       "    <tr>\n",
       "      <th>4</th>\n",
       "      <td>0.655738</td>\n",
       "      <td>0.000000</td>\n",
       "      <td>0.000000</td>\n",
       "      <td>0.000000</td>\n",
       "    </tr>\n",
       "  </tbody>\n",
       "</table>\n",
       "</div>"
      ],
      "text/plain": [
       "     HIT-HC    HIT-LC   MISS-LC   MISS-HC\n",
       "0  0.888199  0.444444  0.600000  0.000000\n",
       "1  0.459459  0.347826  0.000000  0.000000\n",
       "2  0.917808  1.000000  0.666667  0.000000\n",
       "3  0.555556  0.500000  0.600000  0.367647\n",
       "4  0.655738  0.000000  0.000000  0.000000"
      ]
     },
     "metadata": {},
     "output_type": "display_data"
    },
    {
     "data": {
      "text/plain": [
       "<matplotlib.lines.Line2D at 0x193ab527088>"
      ]
     },
     "execution_count": 6,
     "metadata": {},
     "output_type": "execute_result"
    },
    {
     "data": {
      "image/png": "[encoded data removed]",
      "text/plain": [
       "<Figure size 432x288 with 1 Axes>"
      ]
     },
     "metadata": {
      "needs_background": "light"
     },
     "output_type": "display_data"
    }
   ],
   "source": [
    "### Prob.11 ###\n",
    "\n",
    "# Use plt.axhline to draw line indicating chance level\n",
    "score('./DMdata')\n",
    "plt.axhline(y=0.25, color = 'black', alpha = 0.7)\n"
   ]
  },
  {
   "cell_type": "code",
   "execution_count": null,
   "metadata": {
    "id": "DvwEwCaR12YZ"
   },
   "outputs": [],
   "source": []
  }
 ],
 "metadata": {
  "colab": {
   "name": "HomeWork2_YuJangHoon.ipynb",
   "provenance": []
  },
  "kernelspec": {
   "display_name": "Python 3",
   "language": "python",
   "name": "python3"
  },
  "language_info": {
   "codemirror_mode": {
    "name": "ipython",
    "version": 3
   },
   "file_extension": ".py",
   "mimetype": "text/x-python",
   "name": "python",
   "nbconvert_exporter": "python",
   "pygments_lexer": "ipython3",
   "version": "3.7.6"
  }
 },
 "nbformat": 4,
 "nbformat_minor": 1
}
